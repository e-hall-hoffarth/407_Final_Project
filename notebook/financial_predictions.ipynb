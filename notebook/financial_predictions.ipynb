{
 "cells": [
  {
   "cell_type": "code",
   "execution_count": 1,
   "metadata": {},
   "outputs": [],
   "source": [
    "import pandas as pd\n",
    "import numpy as np\n",
    "import matplotlib.pyplot as plt\n",
    "from sklearn import linear_model\n",
    "from sklearn import metrics\n",
    "from sklearn import neural_network\n",
    "from sklearn import pipeline\n",
    "from sklearn import model_selection"
   ]
  },
  {
   "cell_type": "code",
   "execution_count": 2,
   "metadata": {},
   "outputs": [
    {
     "name": "stderr",
     "output_type": "stream",
     "text": [
      "/usr/lib/python3.7/site-packages/IPython/core/interactiveshell.py:3020: DtypeWarning: Columns (6,9,16,55) have mixed types. Specify dtype option on import or set low_memory=False.\n",
      "  interactivity=interactivity, compiler=compiler, result=result)\n"
     ]
    }
   ],
   "source": [
    "comp = pd.read_csv('../data/COMPUSTAT_vars.csv')"
   ]
  },
  {
   "cell_type": "markdown",
   "metadata": {},
   "source": [
    "# Concept\n",
    "The data used here shows various outcomes from firms' financial statements combined with information about data breaches that happen to the firms. The idea is to create a machine learning model that will be able to predict certain outcomes in period t+1 using only data up to period t. For example predict firm revenue in 2015 using only data from before 2014. This is an example of time series prediction."
   ]
  },
  {
   "cell_type": "code",
   "execution_count": 29,
   "metadata": {},
   "outputs": [],
   "source": [
    "# Filter data to only firms that have one data breach to remove complication of handling multiple breaches\n",
    "number_breaches = comp.groupby(by='GVKEY').apply(lambda x: len(x['breachdate'].unique()))\n",
    "number_breaches = number_breaches.to_frame()\n",
    "number_breaches = number_breaches.reset_index()\n",
    "number_breaches.columns = ['GVKEY', 'nbreaches']\n",
    "comp = pd.merge(comp, number_breaches, on='GVKEY', how='left')\n",
    "comp = comp[comp['nbreaches'] == 1]"
   ]
  },
  {
   "cell_type": "code",
   "execution_count": null,
   "metadata": {},
   "outputs": [],
   "source": []
  }
 ],
 "metadata": {
  "kernelspec": {
   "display_name": "Python 3",
   "language": "python",
   "name": "python3"
  },
  "language_info": {
   "codemirror_mode": {
    "name": "ipython",
    "version": 3
   },
   "file_extension": ".py",
   "mimetype": "text/x-python",
   "name": "python",
   "nbconvert_exporter": "python",
   "pygments_lexer": "ipython3",
   "version": "3.7.3"
  }
 },
 "nbformat": 4,
 "nbformat_minor": 2
}
